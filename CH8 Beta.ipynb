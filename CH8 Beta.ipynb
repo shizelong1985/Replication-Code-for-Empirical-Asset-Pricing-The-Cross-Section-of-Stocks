{
 "cells": [
  {
   "cell_type": "markdown",
   "metadata": {},
   "source": [
    "# 8. Beta"
   ]
  },
  {
   "cell_type": "markdown",
   "metadata": {},
   "source": [
    "## 8.1 Estimating Beta"
   ]
  },
  {
   "cell_type": "markdown",
   "metadata": {},
   "source": [
    "### 8.1.1 Description"
   ]
  },
  {
   "cell_type": "markdown",
   "metadata": {},
   "source": [
    "***CAPM regression/one-factor market model regression***:\n",
    "$$\n",
    "r_{i,t} = \\alpha _{i}+\\beta _{i}MKT_{t}+\\varepsilon _{i,t}\n",
    "$$\n",
    "| Data Frequencies | Estimation Period          | Minimum Valid Data points           |\n",
    "| ---------------- | -------------------------- | ----------------------------------- |\n",
    "| Daily Return     | 1, 3, 6, **12**, 24 months | 15, 50, 100, **200**, 450 daily obs |\n",
    "| Monthly Retun    | 1, 2, 3, **5** years       | 10, 20, 24, **24** monthly obs      |\n",
    "\n",
    "*Most common: (12, 200) & (5, 24)*"
   ]
  },
  {
   "cell_type": "markdown",
   "metadata": {},
   "source": [
    "***Scholes and Willams (1997): account for nonsynchronous trading***:\n",
    "$$\n",
    "r_{i,t} = a_{i}+b_{i}^{-}MKT_{t-1}+e_{i,t}^{-} \n",
    "$$\n",
    "$$\n",
    "r_{i,t} = a_{i}+b_{i}MKT_{t}+e_{i,t}\n",
    "$$\n",
    "$$\n",
    "r_{i,t} = a_{i}+b_{i}^{+}MKT_{t+1}+e_{i,t}^{+} \n",
    "$$\n",
    "and define\n",
    "$$\n",
    "\\beta _{i}^{SW}=\\frac{\\hat b_{i}^{-}+\\hat b_{i}+\\hat b_{i}^{+}}{1+2\\rho}\n",
    "$$\n",
    "$\\rho$: first-order serial correlation of $MKT$\n",
    "| Data Frequencies | Estimation Period          | Minimum Valid Data points           |\n",
    "| ---------------- | -------------------------- | ----------------------------------- |\n",
    "| Daily Return     | 12 months, [t-11, t]       | 200 daily obs                       |"
   ]
  },
  {
   "cell_type": "markdown",
   "metadata": {},
   "source": [
    "***Dimson(1979): infrequently traded***\n",
    "$$\n",
    "r_{i,t} = \\alpha _{i}+\\sum _{k=-5}^{k=5} b_{i}^{k}MKT_{t+k}+\\varepsilon _{i,t}\n",
    "$$\n",
    "$$\n",
    "\\beta _{i}^{D}=\\sum _{k=-5}^{k=5} \\hat b_{i}^{k}\n",
    "$$\n",
    "| Data Frequencies | Estimation Period          | Minimum Valid Data points           |\n",
    "| ---------------- | -------------------------- | ----------------------------------- |\n",
    "| Daily Return     | 12 months, [t-11, t]       | 200 daily obs                       |"
   ]
  },
  {
   "cell_type": "markdown",
   "metadata": {},
   "source": [
    "### 8.1.2 Codes"
   ]
  },
  {
   "cell_type": "code",
   "execution_count": 1,
   "metadata": {},
   "outputs": [],
   "source": [
    "# Import\n",
    "import pandas as pd\n",
    "import numpy as np\n",
    "from numba import *\n",
    "import matplotlib.pyplot as plt\n",
    "plt.rcParams[\"figure.figsize\"] = (10, 6) #set default figure size\n",
    "from pandas.tseries.offsets import *\n",
    "import pyreadstat"
   ]
  },
  {
   "cell_type": "code",
   "execution_count": 2,
   "metadata": {},
   "outputs": [],
   "source": [
    "# Parameters\n",
    "file_path = \"E:\\Study\\Data\\CRSP_Stock\\Data\\Source\\CRSP_M.sas7bdat\"\n",
    "start_date = '1963-6-30'\n",
    "end_date = '2012-12-31'\n",
    "\n",
    "# Read Data\n",
    "crsp, meta = pyreadstat.read_sas7bdat(file_path)\n",
    "crsp.columns = crsp.columns.map(lambda x: x.lower())\n",
    "\n",
    "# Define the Sample\n",
    "# crsp_m['date']=pd.to_datetime(crsp_m['date'].astype(str))\n",
    "crsp['date']=pd.to_datetime(crsp['date'], format='%Y-%m-%d')\n",
    "crsp['jdate']=crsp['date'] + MonthEnd(0) # Line up date to be end of month\n",
    "crsp = crsp[(crsp['jdate'] >= start_date) & (crsp['jdate'] <= end_date)]\n",
    "\n",
    "# change variable format to int\n",
    "crsp[['permco','permno']] = crsp[['permco','permno']].astype(int)\n",
    "\n",
    "# Fama-French Monthly Factor Data\n",
    "ff_m, meta = pyreadstat.read_sas7bdat(\"E:\\Study\\Data\\CRSP_Stock\\Data\\Source\\FF_Factor_M.sas7bdat\")\n",
    "ff_m.columns = ff_m.columns.map(lambda x: x.lower())\n",
    "ff_m['dateff']=pd.to_datetime(ff_m['dateff'], format='%Y-%m-%d')\n",
    "ff_m['jdate'] = ff_m['dateff'] + MonthEnd(0)\n",
    "crsp = pd.merge(crsp, ff_m[['jdate', 'mktrf', 'rf']], how='left', on=['jdate'])"
   ]
  },
  {
   "cell_type": "code",
   "execution_count": 3,
   "metadata": {},
   "outputs": [],
   "source": [
    "# Delisting Adjustment\n",
    "dlstcd_list = [500, 520] + list(range(551,575)) + [580, 584]\n",
    "dlstcd_in_list = crsp['dlstcd'].map(lambda x: x in dlstcd_list)\n",
    "dlret_isna = crsp['dlret'].isna()\n",
    "dlstcd_isna = crsp['dlstcd'].isna()\n",
    "ret_isna = crsp['ret'].isna()\n",
    "crsp.loc[(dlstcd_in_list) & (dlret_isna), 'dlret'] = -0.3\n",
    "crsp.loc[(- dlstcd_in_list) & (- dlstcd_isna) & (dlret_isna), 'dlret'] = -1\n",
    "\n",
    "crsp['retadj'] = crsp['ret']\n",
    "crsp.loc[- crsp['dlret'].isna(), 'retadj'] = crsp.loc[- crsp['dlret'].isna(), 'dlret'] # can't use dlret_isna now"
   ]
  },
  {
   "cell_type": "code",
   "execution_count": 4,
   "metadata": {},
   "outputs": [],
   "source": [
    "# Year and Month Variables\n",
    "crsp['year'] = crsp['date'].dt.year\n",
    "crsp['month'] = crsp['date'].dt.month\n",
    "\n",
    "# Excess Stock Returns\n",
    "crsp['ex_retadj'] = crsp['retadj'] - crsp['rf']\n",
    "crsp['ex_ret'] = crsp['ret'] - crsp['rf']\n",
    "\n",
    "# Market Values\n",
    "crsp['me'] = crsp['shrout'] * crsp['altprc'].abs() / 1000 # measured in millions of dollars\n",
    "# crsp['me'] = crsp['shrout'] * crsp['prc'].abs() / 1000\n",
    "\n",
    "# Market Factor\n",
    "crsp['ex_mkt'] = crsp['vwretd'] - crsp['rf']\n",
    "\n",
    "\n",
    "# U.S.-based common stocks: sharecode ('SHRCD') = 10 or 11\n",
    "crsp.query('shrcd == 10 or shrcd == 11', inplace=True)"
   ]
  },
  {
   "cell_type": "code",
   "execution_count": 5,
   "metadata": {},
   "outputs": [],
   "source": [
    "# Beta Function\n",
    "def calc_beta(df, min_periods):\n",
    "\n",
    "    # drop all rows with any NaN values\n",
    "    # df = df[~np.isnan(df).any(axis=1)] # numba not support advanced index for array\n",
    "    mask = np.isnan(df)\n",
    "    m,n = mask.shape\n",
    "    nan_rows = []\n",
    "    for i in range(m):\n",
    "        for j in range(n):\n",
    "            if mask[i, j] == 1:\n",
    "                nan_rows.append(i)\n",
    "    all_rows = list(range(m))\n",
    "    keep_rows = list(set(all_rows).difference(set(nan_rows)))\n",
    "    df = df[np.array(keep_rows),:]\n",
    "    \n",
    "    # rebuild a contigous numpy array for faster reg\n",
    "    x = np.ascontiguousarray(df[:,0:1]) # first column is the market\n",
    "    x = np.concatenate((np.ones_like(x), x), axis=1)\n",
    "    y = np.ascontiguousarray(df[:,1])\n",
    "\n",
    "    if len(df) >= min_periods:\n",
    "        b=(np.linalg.pinv(x.T @ x)) @ x.T @ y\n",
    "        return b[0], b[1]\n",
    "    else:\n",
    "        return np.nan, np.nan"
   ]
  },
  {
   "cell_type": "code",
   "execution_count": 6,
   "metadata": {},
   "outputs": [],
   "source": [
    "# Rolling Estimation\n",
    "def rolling_beta(df, window, min_obs):\n",
    "\n",
    "    df = df.set_index('date')\n",
    "    df.index = pd.DatetimeIndex(df.index)\n",
    "\n",
    "    capm = pd.DataFrame(df['permno'])\n",
    "    capm[['alpha', 'beta']] = np.nan\n",
    "\n",
    "    grp = df.groupby('permno')\n",
    "    for stock, sub_df in grp:\n",
    "        sub2_df = sub_df[['mkt_ret', 'ret']].sort_index() \n",
    "        result = sub2_df.rolling(window, min_periods=min_obs, method=\"table\").apply(calc_beta, raw=True, engine=\"numba\", args=(min_obs,))\n",
    "        capm.loc[capm.permno == stock, ['alpha', 'beta']] = result.values\n",
    "\n",
    "    return capm"
   ]
  },
  {
   "cell_type": "code",
   "execution_count": 7,
   "metadata": {},
   "outputs": [],
   "source": [
    "crsp_ret = crsp[['permno', 'jdate', 'ex_ret', 'ex_mkt']].rename(columns={'jdate':'date', 'ex_ret':'ret', 'ex_mkt':'mkt_ret'})"
   ]
  },
  {
   "cell_type": "code",
   "execution_count": 8,
   "metadata": {},
   "outputs": [
    {
     "name": "stdout",
     "output_type": "stream",
     "text": [
      "count    4451.003361\n",
      "mean        1.126461\n",
      "std         1.351209\n",
      "min        -9.633205\n",
      "25%         0.362513\n",
      "50%         1.001369\n",
      "75%         1.777139\n",
      "max        16.612498\n",
      "dtype: float64\n",
      "count    4078.082353\n",
      "mean        1.129708\n",
      "std         0.945934\n",
      "min        -4.823656\n",
      "25%         0.535169\n",
      "50%         1.025617\n",
      "75%         1.620098\n",
      "max         9.329323\n",
      "dtype: float64\n",
      "count    3956.416807\n",
      "mean        1.129041\n",
      "std         0.817727\n",
      "min        -3.489991\n",
      "25%         0.596798\n",
      "50%         1.035354\n",
      "75%         1.564901\n",
      "max         7.246288\n",
      "dtype: float64\n",
      "count    3992.662185\n",
      "mean        1.128494\n",
      "std         0.737462\n",
      "min        -3.353787\n",
      "25%         0.641002\n",
      "50%         1.043523\n",
      "75%         1.526090\n",
      "max         6.363536\n",
      "dtype: float64\n"
     ]
    }
   ],
   "source": [
    "windows = ['365d', '730d', '1095d', '1825d']\n",
    "min_obs = [10, 20, 24, 24]\n",
    "beta = pd.DataFrame()\n",
    "for win, min in zip(windows, min_obs):\n",
    "    beta_estimation = rolling_beta(crsp_ret, window=win, min_obs=min)\n",
    "    print(beta_estimation.groupby('date')['beta'].describe().mean())"
   ]
  }
 ],
 "metadata": {
  "interpreter": {
   "hash": "07efdcd4b820c98a756949507a4d29d7862823915ec7477944641bea022f4f62"
  },
  "kernelspec": {
   "display_name": "Python 3.9.7 64-bit ('base': conda)",
   "language": "python",
   "name": "python3"
  },
  "language_info": {
   "codemirror_mode": {
    "name": "ipython",
    "version": 3
   },
   "file_extension": ".py",
   "mimetype": "text/x-python",
   "name": "python",
   "nbconvert_exporter": "python",
   "pygments_lexer": "ipython3",
   "version": "3.9.10"
  },
  "orig_nbformat": 4
 },
 "nbformat": 4,
 "nbformat_minor": 2
}
